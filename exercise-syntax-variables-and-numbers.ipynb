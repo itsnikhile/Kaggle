{
 "cells": [
  {
   "cell_type": "markdown",
   "id": "b8f98ceb",
   "metadata": {
    "papermill": {
     "duration": 0.005146,
     "end_time": "2025-05-04T00:52:24.270314",
     "exception": false,
     "start_time": "2025-05-04T00:52:24.265168",
     "status": "completed"
    },
    "tags": []
   },
   "source": [
    "**This notebook is an exercise in the [Python](https://www.kaggle.com/learn/python) course.  You can reference the tutorial at [this link](https://www.kaggle.com/colinmorris/hello-python).**\n",
    "\n",
    "---\n"
   ]
  },
  {
   "cell_type": "markdown",
   "id": "e7aaf2e9",
   "metadata": {
    "papermill": {
     "duration": 0.003973,
     "end_time": "2025-05-04T00:52:24.278918",
     "exception": false,
     "start_time": "2025-05-04T00:52:24.274945",
     "status": "completed"
    },
    "tags": []
   },
   "source": [
    "Welcome to your first set of Python coding problems.  If this is your first time using Kaggle Notebooks, welcome! \n",
    "\n",
    "Notebooks are composed of blocks (called \"cells\") of text and code. Each of these is editable, though you'll mainly be editing the code cells to answer some questions.\n",
    "\n",
    "To get started, try running the code cell below (by pressing the ► button, or clicking on the cell and pressing ctrl+enter on your keyboard)."
   ]
  },
  {
   "cell_type": "code",
   "execution_count": 1,
   "id": "40d4f28d",
   "metadata": {
    "execution": {
     "iopub.execute_input": "2025-05-04T00:52:24.288967Z",
     "iopub.status.busy": "2025-05-04T00:52:24.288080Z",
     "iopub.status.idle": "2025-05-04T00:52:24.296864Z",
     "shell.execute_reply": "2025-05-04T00:52:24.295872Z"
    },
    "papermill": {
     "duration": 0.01531,
     "end_time": "2025-05-04T00:52:24.298316",
     "exception": false,
     "start_time": "2025-05-04T00:52:24.283006",
     "status": "completed"
    },
    "tags": []
   },
   "outputs": [
    {
     "name": "stdout",
     "output_type": "stream",
     "text": [
      "You've successfully run some Python code\n",
      "Congratulations!\n"
     ]
    }
   ],
   "source": [
    "print(\"You've successfully run some Python code\")\n",
    "print(\"Congratulations!\")"
   ]
  },
  {
   "cell_type": "markdown",
   "id": "ff33ce7b",
   "metadata": {
    "papermill": {
     "duration": 0.005629,
     "end_time": "2025-05-04T00:52:24.308599",
     "exception": false,
     "start_time": "2025-05-04T00:52:24.302970",
     "status": "completed"
    },
    "tags": []
   },
   "source": [
    "Try adding another line of code in the cell above and re-running it. \n",
    "\n",
    "Now let's get a little fancier:  Add a new code cell by clicking on an existing code cell, hitting the escape key, and then hitting the `a` or `b` key.  The `a` key will add a cell above the current cell, and `b` adds a cell below.\n",
    "\n",
    "Great! Now you know how to use Notebooks.\n",
    "\n",
    "Each hands-on exercise starts by setting up our feedback and code checking mechanism. Run the code cell below to do that. Then you'll be ready to move on to question 0."
   ]
  },
  {
   "cell_type": "code",
   "execution_count": 2,
   "id": "4909a63a",
   "metadata": {
    "_kg_hide-input": true,
    "_kg_hide-output": true,
    "execution": {
     "iopub.execute_input": "2025-05-04T00:52:24.319956Z",
     "iopub.status.busy": "2025-05-04T00:52:24.319104Z",
     "iopub.status.idle": "2025-05-04T00:52:26.303922Z",
     "shell.execute_reply": "2025-05-04T00:52:26.302908Z"
    },
    "papermill": {
     "duration": 1.991984,
     "end_time": "2025-05-04T00:52:26.305547",
     "exception": false,
     "start_time": "2025-05-04T00:52:24.313563",
     "status": "completed"
    },
    "tags": []
   },
   "outputs": [
    {
     "name": "stdout",
     "output_type": "stream",
     "text": [
      "Setup complete! You're ready to start question 0.\n"
     ]
    }
   ],
   "source": [
    "from learntools.core import binder; binder.bind(globals())\n",
    "from learntools.python.ex1 import *\n",
    "print(\"Setup complete! You're ready to start question 0.\")"
   ]
  },
  {
   "cell_type": "markdown",
   "id": "fbc1ac26",
   "metadata": {
    "papermill": {
     "duration": 0.004079,
     "end_time": "2025-05-04T00:52:26.314014",
     "exception": false,
     "start_time": "2025-05-04T00:52:26.309935",
     "status": "completed"
    },
    "tags": []
   },
   "source": [
    "# 0.\n",
    "\n",
    "*This is a silly question intended as an introduction to the format we use for hands-on exercises throughout all Kaggle courses.*\n",
    "\n",
    "**What is your favorite color? **\n",
    "\n",
    "To complete this question, create a variable called `color` in the cell below with an appropriate value. The function call `q0.check()` (which we've already provided in the cell below) will check your answer."
   ]
  },
  {
   "cell_type": "code",
   "execution_count": 3,
   "id": "cfd89ce2",
   "metadata": {
    "execution": {
     "iopub.execute_input": "2025-05-04T00:52:26.323682Z",
     "iopub.status.busy": "2025-05-04T00:52:26.323288Z",
     "iopub.status.idle": "2025-05-04T00:52:26.331857Z",
     "shell.execute_reply": "2025-05-04T00:52:26.330795Z"
    },
    "papermill": {
     "duration": 0.015069,
     "end_time": "2025-05-04T00:52:26.333309",
     "exception": false,
     "start_time": "2025-05-04T00:52:26.318240",
     "status": "completed"
    },
    "tags": []
   },
   "outputs": [
    {
     "data": {
      "application/javascript": [
       "parent.postMessage({\"jupyterEvent\": \"custom.exercise_interaction\", \"data\": {\"outcomeType\": 4, \"interactionType\": 1, \"questionType\": 2, \"questionId\": \"0_ExerciseFormatTutorial\", \"learnToolsVersion\": \"0.3.5\", \"valueTowardsCompletion\": 0.0, \"failureMessage\": \"\", \"exceptionClass\": \"\", \"trace\": \"\"}}, \"*\")"
      ],
      "text/plain": [
       "<IPython.core.display.Javascript object>"
      ]
     },
     "metadata": {},
     "output_type": "display_data"
    },
    {
     "data": {
      "text/markdown": [
       "<span style=\"color:#ccaa33\">Check:</span> When you've updated the starter code, `check()` will tell you whether your code is correct. Remember, you must create the following variable: `color`"
      ],
      "text/plain": [
       "Check: When you've updated the starter code, `check()` will tell you whether your code is correct. Remember, you must create the following variable: `color`"
      ]
     },
     "metadata": {},
     "output_type": "display_data"
    }
   ],
   "source": [
    "# create a variable called color with an appropriate value on the line below\n",
    "# (Remember, strings in Python must be enclosed in 'single' or \"double\" quotes)\n",
    "____\n",
    "\n",
    "# Check your answer\n",
    "q0.check()"
   ]
  },
  {
   "cell_type": "markdown",
   "id": "6e708fbc",
   "metadata": {
    "papermill": {
     "duration": 0.004227,
     "end_time": "2025-05-04T00:52:26.342169",
     "exception": false,
     "start_time": "2025-05-04T00:52:26.337942",
     "status": "completed"
    },
    "tags": []
   },
   "source": [
    "Didn't get the right answer? How do you not even know your own favorite color?!\n",
    "\n",
    "Delete the `#` in the line below to make one of the lines run. You can choose between getting a hint or the full answer by choosing which line to remove the `#` from. \n",
    "\n",
    "Removing the `#` is called uncommenting, because it changes that line from a \"comment\" which Python doesn't run to code, which Python does run."
   ]
  },
  {
   "cell_type": "code",
   "execution_count": 4,
   "id": "04394ed5",
   "metadata": {
    "execution": {
     "iopub.execute_input": "2025-05-04T00:52:26.352248Z",
     "iopub.status.busy": "2025-05-04T00:52:26.351918Z",
     "iopub.status.idle": "2025-05-04T00:52:26.356099Z",
     "shell.execute_reply": "2025-05-04T00:52:26.355109Z"
    },
    "papermill": {
     "duration": 0.011163,
     "end_time": "2025-05-04T00:52:26.357657",
     "exception": false,
     "start_time": "2025-05-04T00:52:26.346494",
     "status": "completed"
    },
    "tags": []
   },
   "outputs": [],
   "source": [
    "#q0.hint()\n",
    "#q0.solution()"
   ]
  },
  {
   "cell_type": "markdown",
   "id": "cc60bf92",
   "metadata": {
    "papermill": {
     "duration": 0.004169,
     "end_time": "2025-05-04T00:52:26.366532",
     "exception": false,
     "start_time": "2025-05-04T00:52:26.362363",
     "status": "completed"
    },
    "tags": []
   },
   "source": [
    "The upcoming questions work the same way. The only thing that will change are the question numbers. For the next question, you'll call `q1.check()`, `q1.hint()`, `q1.solution()`, for question 2, you'll call `q2.check()`, and so on."
   ]
  },
  {
   "cell_type": "markdown",
   "id": "fadb37d7",
   "metadata": {
    "papermill": {
     "duration": 0.004136,
     "end_time": "2025-05-04T00:52:26.375044",
     "exception": false,
     "start_time": "2025-05-04T00:52:26.370908",
     "status": "completed"
    },
    "tags": []
   },
   "source": [
    "<hr/>\n",
    "\n",
    "# 1.\n",
    "\n",
    "Complete the code below. In case it's helpful, here is the table of available arithmetic operations:\n",
    "\n",
    "\n",
    "\n",
    "| Operator     | Name           | Description                                            |\n",
    "|--------------|----------------|--------------------------------------------------------|\n",
    "| ``a + b``    | Addition       | Sum of ``a`` and ``b``                                 |\n",
    "| ``a - b``    | Subtraction    | Difference of ``a`` and ``b``                          |\n",
    "| ``a * b``    | Multiplication | Product of ``a`` and ``b``                             |\n",
    "| ``a / b``    | True division  | Quotient of ``a`` and ``b``                            |\n",
    "| ``a // b``   | Floor division | Quotient of ``a`` and ``b``, removing fractional parts |\n",
    "| ``a % b``    | Modulus        | Integer remainder after division of ``a`` by ``b``     |\n",
    "| ``a ** b``   | Exponentiation | ``a`` raised to the power of ``b``                     |\n",
    "| ``-a``       | Negation       | The negative of ``a``                                  |\n",
    "\n",
    "<span style=\"display:none\"></span>\n"
   ]
  },
  {
   "cell_type": "code",
   "execution_count": 5,
   "id": "75b3565f",
   "metadata": {
    "execution": {
     "iopub.execute_input": "2025-05-04T00:52:26.385899Z",
     "iopub.status.busy": "2025-05-04T00:52:26.385170Z",
     "iopub.status.idle": "2025-05-04T00:52:26.392959Z",
     "shell.execute_reply": "2025-05-04T00:52:26.391928Z"
    },
    "papermill": {
     "duration": 0.014794,
     "end_time": "2025-05-04T00:52:26.394316",
     "exception": false,
     "start_time": "2025-05-04T00:52:26.379522",
     "status": "completed"
    },
    "tags": []
   },
   "outputs": [
    {
     "data": {
      "application/javascript": [
       "parent.postMessage({\"jupyterEvent\": \"custom.exercise_interaction\", \"data\": {\"outcomeType\": 4, \"interactionType\": 1, \"questionType\": 1, \"questionId\": \"1_CircleArea\", \"learnToolsVersion\": \"0.3.5\", \"valueTowardsCompletion\": 0.0, \"failureMessage\": \"\", \"exceptionClass\": \"\", \"trace\": \"\"}}, \"*\")"
      ],
      "text/plain": [
       "<IPython.core.display.Javascript object>"
      ]
     },
     "metadata": {},
     "output_type": "display_data"
    },
    {
     "data": {
      "text/markdown": [
       "<span style=\"color:#ccaa33\">Check:</span> When you've updated the starter code, `check()` will tell you whether your code is correct. Remember, you must create the following variables: `radius`, `area`"
      ],
      "text/plain": [
       "Check: When you've updated the starter code, `check()` will tell you whether your code is correct. Remember, you must create the following variables: `radius`, `area`"
      ]
     },
     "metadata": {},
     "output_type": "display_data"
    }
   ],
   "source": [
    "pi = 3.14159 # approximate\n",
    "diameter = 3\n",
    "\n",
    "# Create a variable called 'radius' equal to half the diameter\n",
    "____\n",
    "\n",
    "# Create a variable called 'area', using the formula for the area of a circle: pi times the radius squared\n",
    "____\n",
    "\n",
    "# Check your answer\n",
    "q1.check()"
   ]
  },
  {
   "cell_type": "code",
   "execution_count": 6,
   "id": "d160bb24",
   "metadata": {
    "execution": {
     "iopub.execute_input": "2025-05-04T00:52:26.405270Z",
     "iopub.status.busy": "2025-05-04T00:52:26.404983Z",
     "iopub.status.idle": "2025-05-04T00:52:26.409350Z",
     "shell.execute_reply": "2025-05-04T00:52:26.408446Z"
    },
    "papermill": {
     "duration": 0.011845,
     "end_time": "2025-05-04T00:52:26.411081",
     "exception": false,
     "start_time": "2025-05-04T00:52:26.399236",
     "status": "completed"
    },
    "tags": []
   },
   "outputs": [],
   "source": [
    "# Uncomment and run the lines below if you need help.\n",
    "#q1.hint()\n",
    "#q1.solution()"
   ]
  },
  {
   "cell_type": "markdown",
   "id": "433e5229",
   "metadata": {
    "papermill": {
     "duration": 0.004909,
     "end_time": "2025-05-04T00:52:26.421118",
     "exception": false,
     "start_time": "2025-05-04T00:52:26.416209",
     "status": "completed"
    },
    "tags": []
   },
   "source": [
    "<hr/>\n",
    "\n",
    "# 2.\n",
    "\n",
    "Add code to the following cell to swap variables `a` and `b` (so that `a` refers to the object previously referred to by `b` and vice versa)."
   ]
  },
  {
   "cell_type": "code",
   "execution_count": 7,
   "id": "7a5b8b05",
   "metadata": {
    "execution": {
     "iopub.execute_input": "2025-05-04T00:52:26.431813Z",
     "iopub.status.busy": "2025-05-04T00:52:26.431530Z",
     "iopub.status.idle": "2025-05-04T00:52:26.439315Z",
     "shell.execute_reply": "2025-05-04T00:52:26.438403Z"
    },
    "papermill": {
     "duration": 0.014857,
     "end_time": "2025-05-04T00:52:26.440798",
     "exception": false,
     "start_time": "2025-05-04T00:52:26.425941",
     "status": "completed"
    },
    "tags": []
   },
   "outputs": [
    {
     "data": {
      "application/javascript": [
       "parent.postMessage({\"jupyterEvent\": \"custom.exercise_interaction\", \"data\": {\"outcomeType\": 2, \"failureMessage\": \"`a` and `b` still have their original values.\", \"interactionType\": 1, \"questionType\": 2, \"questionId\": \"2_VariableSwap\", \"learnToolsVersion\": \"0.3.5\", \"valueTowardsCompletion\": 0.0, \"exceptionClass\": \"\", \"trace\": \"\"}}, \"*\")"
      ],
      "text/plain": [
       "<IPython.core.display.Javascript object>"
      ]
     },
     "metadata": {},
     "output_type": "display_data"
    },
    {
     "data": {
      "text/markdown": [
       "<span style=\"color:#cc3333\">Incorrect:</span> `a` and `b` still have their original values."
      ],
      "text/plain": [
       "Incorrect: `a` and `b` still have their original values."
      ]
     },
     "metadata": {},
     "output_type": "display_data"
    }
   ],
   "source": [
    "########### Setup code - don't touch this part ######################\n",
    "# If you're curious, these are examples of lists. We'll talk about \n",
    "# them in depth a few lessons from now. For now, just know that they're\n",
    "# yet another type of Python object, like int or float.\n",
    "a = [1, 2, 3]\n",
    "b = [3, 2, 1]\n",
    "q2.store_original_ids()\n",
    "######################################################################\n",
    "\n",
    "# Your code goes here. Swap the values to which a and b refer.\n",
    "# If you get stuck, you can always uncomment one or both of the lines in\n",
    "# the next cell for a hint, or to peek at the solution.\n",
    "\n",
    "######################################################################\n",
    "\n",
    "# Check your answer\n",
    "q2.check()"
   ]
  },
  {
   "cell_type": "code",
   "execution_count": 8,
   "id": "16cff5bb",
   "metadata": {
    "execution": {
     "iopub.execute_input": "2025-05-04T00:52:26.452716Z",
     "iopub.status.busy": "2025-05-04T00:52:26.452165Z",
     "iopub.status.idle": "2025-05-04T00:52:26.456284Z",
     "shell.execute_reply": "2025-05-04T00:52:26.455329Z"
    },
    "papermill": {
     "duration": 0.011458,
     "end_time": "2025-05-04T00:52:26.457867",
     "exception": false,
     "start_time": "2025-05-04T00:52:26.446409",
     "status": "completed"
    },
    "tags": []
   },
   "outputs": [],
   "source": [
    "#q2.hint()"
   ]
  },
  {
   "cell_type": "code",
   "execution_count": 9,
   "id": "9c89a627",
   "metadata": {
    "execution": {
     "iopub.execute_input": "2025-05-04T00:52:26.469283Z",
     "iopub.status.busy": "2025-05-04T00:52:26.468993Z",
     "iopub.status.idle": "2025-05-04T00:52:26.472742Z",
     "shell.execute_reply": "2025-05-04T00:52:26.472082Z"
    },
    "papermill": {
     "duration": 0.01128,
     "end_time": "2025-05-04T00:52:26.474244",
     "exception": false,
     "start_time": "2025-05-04T00:52:26.462964",
     "status": "completed"
    },
    "tags": []
   },
   "outputs": [],
   "source": [
    "#q2.solution()"
   ]
  },
  {
   "cell_type": "markdown",
   "id": "0a91dae0",
   "metadata": {
    "papermill": {
     "duration": 0.004853,
     "end_time": "2025-05-04T00:52:26.484345",
     "exception": false,
     "start_time": "2025-05-04T00:52:26.479492",
     "status": "completed"
    },
    "tags": []
   },
   "source": [
    "<hr/>\n",
    "\n",
    "# 3a.\n",
    "\n",
    "Add parentheses to the following expression so that it evaluates to 1."
   ]
  },
  {
   "cell_type": "code",
   "execution_count": 10,
   "id": "3e86edd5",
   "metadata": {
    "execution": {
     "iopub.execute_input": "2025-05-04T00:52:26.495282Z",
     "iopub.status.busy": "2025-05-04T00:52:26.495006Z",
     "iopub.status.idle": "2025-05-04T00:52:26.500379Z",
     "shell.execute_reply": "2025-05-04T00:52:26.499541Z"
    },
    "papermill": {
     "duration": 0.01267,
     "end_time": "2025-05-04T00:52:26.501938",
     "exception": false,
     "start_time": "2025-05-04T00:52:26.489268",
     "status": "completed"
    },
    "tags": []
   },
   "outputs": [
    {
     "data": {
      "text/plain": [
       "4"
      ]
     },
     "execution_count": 10,
     "metadata": {},
     "output_type": "execute_result"
    }
   ],
   "source": [
    "5 - 3 // 2"
   ]
  },
  {
   "cell_type": "code",
   "execution_count": 11,
   "id": "414482ce",
   "metadata": {
    "execution": {
     "iopub.execute_input": "2025-05-04T00:52:26.514373Z",
     "iopub.status.busy": "2025-05-04T00:52:26.513683Z",
     "iopub.status.idle": "2025-05-04T00:52:26.517957Z",
     "shell.execute_reply": "2025-05-04T00:52:26.516872Z"
    },
    "papermill": {
     "duration": 0.011784,
     "end_time": "2025-05-04T00:52:26.519436",
     "exception": false,
     "start_time": "2025-05-04T00:52:26.507652",
     "status": "completed"
    },
    "tags": []
   },
   "outputs": [],
   "source": [
    "#q3.a.hint()"
   ]
  },
  {
   "cell_type": "code",
   "execution_count": 12,
   "id": "0b2769fe",
   "metadata": {
    "execution": {
     "iopub.execute_input": "2025-05-04T00:52:26.531387Z",
     "iopub.status.busy": "2025-05-04T00:52:26.531124Z",
     "iopub.status.idle": "2025-05-04T00:52:26.537683Z",
     "shell.execute_reply": "2025-05-04T00:52:26.537005Z"
    },
    "papermill": {
     "duration": 0.013871,
     "end_time": "2025-05-04T00:52:26.538974",
     "exception": false,
     "start_time": "2025-05-04T00:52:26.525103",
     "status": "completed"
    },
    "tags": []
   },
   "outputs": [
    {
     "data": {
      "application/javascript": [
       "parent.postMessage({\"jupyterEvent\": \"custom.exercise_interaction\", \"data\": {\"interactionType\": 3, \"questionType\": 4, \"questionId\": \"3.1_ArithmeticParensEasy\", \"learnToolsVersion\": \"0.3.5\", \"valueTowardsCompletion\": 0.0, \"failureMessage\": \"\", \"exceptionClass\": \"\", \"trace\": \"\", \"outcomeType\": 4}}, \"*\")"
      ],
      "text/plain": [
       "<IPython.core.display.Javascript object>"
      ]
     },
     "metadata": {},
     "output_type": "display_data"
    },
    {
     "data": {
      "text/markdown": [
       "<span style=\"color:#33cc99\">Solution:</span> \n",
       "```python\n",
       "(5 - 3) // 2\n",
       "```"
      ],
      "text/plain": [
       "Solution: \n",
       "```python\n",
       "(5 - 3) // 2\n",
       "```"
      ]
     },
     "metadata": {},
     "output_type": "display_data"
    }
   ],
   "source": [
    "# Check your answer (Run this code cell to receive credit!)\n",
    "q3.a.solution()"
   ]
  },
  {
   "cell_type": "markdown",
   "id": "31a7817f",
   "metadata": {
    "papermill": {
     "duration": 0.005195,
     "end_time": "2025-05-04T00:52:26.550163",
     "exception": false,
     "start_time": "2025-05-04T00:52:26.544968",
     "status": "completed"
    },
    "tags": []
   },
   "source": [
    "# 3b.  <span title=\"A bit spicy\" style=\"color: darkgreen \">🌶️</span>\n",
    "\n",
    "<small>Questions, like this one, marked a spicy pepper are a bit harder.</small>\n",
    "\n",
    "Add parentheses to the following expression so that it evaluates to 0."
   ]
  },
  {
   "cell_type": "code",
   "execution_count": 13,
   "id": "4c6fd26e",
   "metadata": {
    "execution": {
     "iopub.execute_input": "2025-05-04T00:52:26.562589Z",
     "iopub.status.busy": "2025-05-04T00:52:26.561732Z",
     "iopub.status.idle": "2025-05-04T00:52:26.567285Z",
     "shell.execute_reply": "2025-05-04T00:52:26.566541Z"
    },
    "papermill": {
     "duration": 0.013156,
     "end_time": "2025-05-04T00:52:26.568703",
     "exception": false,
     "start_time": "2025-05-04T00:52:26.555547",
     "status": "completed"
    },
    "tags": []
   },
   "outputs": [
    {
     "data": {
      "text/plain": [
       "2"
      ]
     },
     "execution_count": 13,
     "metadata": {},
     "output_type": "execute_result"
    }
   ],
   "source": [
    "8 - 3 * 2 - 1 + 1"
   ]
  },
  {
   "cell_type": "code",
   "execution_count": 14,
   "id": "cc95678c",
   "metadata": {
    "execution": {
     "iopub.execute_input": "2025-05-04T00:52:26.581788Z",
     "iopub.status.busy": "2025-05-04T00:52:26.581479Z",
     "iopub.status.idle": "2025-05-04T00:52:26.585280Z",
     "shell.execute_reply": "2025-05-04T00:52:26.584598Z"
    },
    "papermill": {
     "duration": 0.012158,
     "end_time": "2025-05-04T00:52:26.586612",
     "exception": false,
     "start_time": "2025-05-04T00:52:26.574454",
     "status": "completed"
    },
    "tags": []
   },
   "outputs": [],
   "source": [
    "#q3.b.hint()"
   ]
  },
  {
   "cell_type": "code",
   "execution_count": 15,
   "id": "9fe34beb",
   "metadata": {
    "execution": {
     "iopub.execute_input": "2025-05-04T00:52:26.599158Z",
     "iopub.status.busy": "2025-05-04T00:52:26.598816Z",
     "iopub.status.idle": "2025-05-04T00:52:26.606158Z",
     "shell.execute_reply": "2025-05-04T00:52:26.605415Z"
    },
    "papermill": {
     "duration": 0.015259,
     "end_time": "2025-05-04T00:52:26.607618",
     "exception": false,
     "start_time": "2025-05-04T00:52:26.592359",
     "status": "completed"
    },
    "tags": []
   },
   "outputs": [
    {
     "data": {
      "application/javascript": [
       "parent.postMessage({\"jupyterEvent\": \"custom.exercise_interaction\", \"data\": {\"interactionType\": 3, \"questionType\": 4, \"questionId\": \"3.2_ArithmeticParensHard\", \"learnToolsVersion\": \"0.3.5\", \"valueTowardsCompletion\": 0.0, \"failureMessage\": \"\", \"exceptionClass\": \"\", \"trace\": \"\", \"outcomeType\": 4}}, \"*\")"
      ],
      "text/plain": [
       "<IPython.core.display.Javascript object>"
      ]
     },
     "metadata": {},
     "output_type": "display_data"
    },
    {
     "data": {
      "text/markdown": [
       "<span style=\"color:#33cc99\">Solution:</span> `(8 - 3) * (2 - (1 + 1))` is one solution. There may be others."
      ],
      "text/plain": [
       "Solution: `(8 - 3) * (2 - (1 + 1))` is one solution. There may be others."
      ]
     },
     "metadata": {},
     "output_type": "display_data"
    }
   ],
   "source": [
    "# Check your answer (Run this code cell to receive credit!)\n",
    "q3.b.solution()"
   ]
  },
  {
   "cell_type": "markdown",
   "id": "5b556440",
   "metadata": {
    "papermill": {
     "duration": 0.005646,
     "end_time": "2025-05-04T00:52:26.619298",
     "exception": false,
     "start_time": "2025-05-04T00:52:26.613652",
     "status": "completed"
    },
    "tags": []
   },
   "source": [
    "<hr/>\n",
    "\n",
    "# 4. \n",
    "Alice, Bob and Carol have agreed to pool their Halloween candy and split it evenly among themselves.\n",
    "For the sake of their friendship, any candies left over will be smashed. For example, if they collectively\n",
    "bring home 91 candies, they'll take 30 each and smash 1.\n",
    "\n",
    "Write an arithmetic expression below to calculate how many candies they must smash for a given haul."
   ]
  },
  {
   "cell_type": "code",
   "execution_count": 16,
   "id": "a4329716",
   "metadata": {
    "execution": {
     "iopub.execute_input": "2025-05-04T00:52:26.632304Z",
     "iopub.status.busy": "2025-05-04T00:52:26.632025Z",
     "iopub.status.idle": "2025-05-04T00:52:26.639783Z",
     "shell.execute_reply": "2025-05-04T00:52:26.638852Z"
    },
    "papermill": {
     "duration": 0.016114,
     "end_time": "2025-05-04T00:52:26.641354",
     "exception": false,
     "start_time": "2025-05-04T00:52:26.625240",
     "status": "completed"
    },
    "tags": []
   },
   "outputs": [
    {
     "data": {
      "application/javascript": [
       "parent.postMessage({\"jupyterEvent\": \"custom.exercise_interaction\", \"data\": {\"outcomeType\": 4, \"interactionType\": 1, \"questionType\": 1, \"questionId\": \"4_CandySplitting\", \"learnToolsVersion\": \"0.3.5\", \"valueTowardsCompletion\": 0.0, \"failureMessage\": \"\", \"exceptionClass\": \"\", \"trace\": \"\"}}, \"*\")"
      ],
      "text/plain": [
       "<IPython.core.display.Javascript object>"
      ]
     },
     "metadata": {},
     "output_type": "display_data"
    },
    {
     "data": {
      "text/markdown": [
       "<span style=\"color:#ccaa33\">Check:</span> When you've updated the starter code, `check()` will tell you whether your code is correct. You need to update the code that creates variable `to_smash`"
      ],
      "text/plain": [
       "Check: When you've updated the starter code, `check()` will tell you whether your code is correct. You need to update the code that creates variable `to_smash`"
      ]
     },
     "metadata": {},
     "output_type": "display_data"
    }
   ],
   "source": [
    "# Variables representing the number of candies collected by alice, bob, and carol\n",
    "alice_candies = 121\n",
    "bob_candies = 77\n",
    "carol_candies = 109\n",
    "\n",
    "# Your code goes here! Replace the right-hand side of this assignment with an expression\n",
    "# involving alice_candies, bob_candies, and carol_candies\n",
    "to_smash = -1\n",
    "\n",
    "# Check your answer\n",
    "q4.check()"
   ]
  },
  {
   "cell_type": "code",
   "execution_count": 17,
   "id": "23a52310",
   "metadata": {
    "execution": {
     "iopub.execute_input": "2025-05-04T00:52:26.654750Z",
     "iopub.status.busy": "2025-05-04T00:52:26.654418Z",
     "iopub.status.idle": "2025-05-04T00:52:26.658742Z",
     "shell.execute_reply": "2025-05-04T00:52:26.657612Z"
    },
    "papermill": {
     "duration": 0.012922,
     "end_time": "2025-05-04T00:52:26.660364",
     "exception": false,
     "start_time": "2025-05-04T00:52:26.647442",
     "status": "completed"
    },
    "tags": []
   },
   "outputs": [],
   "source": [
    "#q4.hint()\n",
    "#q4.solution()"
   ]
  },
  {
   "cell_type": "markdown",
   "id": "671c4ed8",
   "metadata": {
    "papermill": {
     "duration": 0.005891,
     "end_time": "2025-05-04T00:52:26.673057",
     "exception": false,
     "start_time": "2025-05-04T00:52:26.667166",
     "status": "completed"
    },
    "tags": []
   },
   "source": [
    "# Keep Going\n",
    "\n",
    "Next up, you'll **[learn to write new functions and understand functions others write](https://www.kaggle.com/colinmorris/functions-and-getting-help)**. This will make you at least 10 times more productive as a Python programmer. "
   ]
  },
  {
   "cell_type": "markdown",
   "id": "c28f0291",
   "metadata": {
    "papermill": {
     "duration": 0.005717,
     "end_time": "2025-05-04T00:52:26.685271",
     "exception": false,
     "start_time": "2025-05-04T00:52:26.679554",
     "status": "completed"
    },
    "tags": []
   },
   "source": [
    "---\n",
    "\n",
    "\n",
    "\n",
    "\n",
    "*Have questions or comments? Visit the [course discussion forum](https://www.kaggle.com/learn/python/discussion) to chat with other learners.*"
   ]
  }
 ],
 "metadata": {
  "kaggle": {
   "accelerator": "none",
   "dataSources": [],
   "isGpuEnabled": false,
   "isInternetEnabled": false,
   "language": "python",
   "sourceType": "notebook"
  },
  "kernelspec": {
   "display_name": "Python 3",
   "language": "python",
   "name": "python3"
  },
  "language_info": {
   "codemirror_mode": {
    "name": "ipython",
    "version": 3
   },
   "file_extension": ".py",
   "mimetype": "text/x-python",
   "name": "python",
   "nbconvert_exporter": "python",
   "pygments_lexer": "ipython3",
   "version": "3.11.11"
  },
  "learntools_metadata": {
   "lesson_index": 0,
   "type": "exercise"
  },
  "papermill": {
   "default_parameters": {},
   "duration": 8.875361,
   "end_time": "2025-05-04T00:52:27.210413",
   "environment_variables": {},
   "exception": null,
   "input_path": "__notebook__.ipynb",
   "output_path": "__notebook__.ipynb",
   "parameters": {},
   "start_time": "2025-05-04T00:52:18.335052",
   "version": "2.6.0"
  }
 },
 "nbformat": 4,
 "nbformat_minor": 5
}
